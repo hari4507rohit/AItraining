{
 "cells": [
  {
   "cell_type": "code",
   "execution_count": null,
   "id": "61294232",
   "metadata": {},
   "outputs": [
    {
     "name": "stdout",
     "output_type": "stream",
     "text": [
      "{1, 3, 4, 5, 6, 44, 222}\n",
      "{1, 3, 4, 5, 6, 10, 44, 222}\n",
      "{1, 3, 4, 5, 6, 10, 44}\n",
      "{1, 3, 4, 5, 6, 10, 11, 22, 44}\n",
      "{1, 3, 4, 5, 6, 10, 11, 44}\n",
      "{1, 44, 222, 6}\n",
      "{1, 3, 4, 5, 6, 44, 333, 55, 666, 222}\n",
      "{3, 4, 5}\n"
     ]
    }
   ],
   "source": [
    "#Day - 04\n",
    "\n",
    "\n",
    "#set-{}\n",
    "# it doesnt allows the duplicates\n",
    "# it doest allow slicing\n",
    "# it doesnt allow indexing\n",
    "# unorderd\n",
    "\n",
    "# set methods\n",
    "\n",
    "# add,update,remove,discard,remove,pop\n",
    "# operations- union,intersection,diffrence\n",
    "\n",
    "\n",
    "#  set_1={}- empty set\n",
    "\n",
    "\n",
    "set1={1,222,3,3,4,222,44,5,6,44,}\n",
    "print(set1)\n",
    "\n",
    "set1.add(10) # also sorting occured\n",
    "print(set1)\n",
    "set1.remove(222)\n",
    "print(set1)\n",
    "set1.update([11,22])#add and update are same\n",
    "print(set1)\n",
    "set1.discard(22)\n",
    "print(set1)\n",
    "\n",
    "#----------------------------------------------------------------------------------------------------------------------------------------------------------\n",
    "\n",
    "set1={1,222,3,3,4,222,44,5,6,44,}\n",
    "\n",
    "set2={3,4,5,4,333,55,666,333,55}\n",
    "\n",
    "print(set1.difference(set2))\n",
    "\n",
    "print(set1.union(set2))\n",
    "\n",
    "print(set1.intersection(set2))\n",
    "\n",
    "\n",
    "\n"
   ]
  },
  {
   "cell_type": "code",
   "execution_count": null,
   "id": "f9bbc1c8",
   "metadata": {},
   "outputs": [
    {
     "data": {
      "text/plain": [
       "8"
      ]
     },
     "metadata": {},
     "output_type": "display_data"
    }
   ],
   "source": [
    "#find the unique values\n",
    "\n",
    "def unique_item(text):\n",
    "    words=text.lower().split()\n",
    "    unique=set(words)#set-it is used for converting a list in to set\n",
    "    return len(unique)\n",
    "unique_item(\"Raju is a good boy but sometimes raju is a bad boy\")"
   ]
  },
  {
   "cell_type": "code",
   "execution_count": null,
   "id": "4d5dec43",
   "metadata": {},
   "outputs": [
    {
     "data": {
      "text/plain": [
       "[1, 2, 3, 4, 5, 6]"
      ]
     },
     "metadata": {},
     "output_type": "display_data"
    }
   ],
   "source": [
    "#remove duplicates from a list\n",
    "\n",
    "\n",
    "def remove_dupli(num):\n",
    "    result=[]\n",
    "    for i in num:\n",
    "        if i not in result:\n",
    "            result.append(i)\n",
    "    return result\n",
    "list1=[1,2,1,1,1,3,4,5,6,4,5,]\n",
    "remove_dupli(list1)\n"
   ]
  },
  {
   "cell_type": "code",
   "execution_count": null,
   "id": "ebb307ad",
   "metadata": {},
   "outputs": [
    {
     "name": "stdout",
     "output_type": "stream",
     "text": [
      "deepa\n",
      "kadhir\n",
      "priya\n"
     ]
    }
   ],
   "source": [
    "#print words longer than 3 letter from a list\n",
    "\n",
    "list1=[\"deepa\",\"kadhir\",\"joe\",\"sri\",\"priya\"]\n",
    "for i in list1:\n",
    "    if(len(i)>3):\n",
    "        print(i)"
   ]
  },
  {
   "cell_type": "code",
   "execution_count": 6,
   "id": "eaddff97",
   "metadata": {},
   "outputs": [
    {
     "ename": "TypeError",
     "evalue": "'list' object is not callable",
     "output_type": "error",
     "traceback": [
      "\u001b[31m---------------------------------------------------------------------------\u001b[39m",
      "\u001b[31mTypeError\u001b[39m                                 Traceback (most recent call last)",
      "\u001b[36mCell\u001b[39m\u001b[36m \u001b[39m\u001b[32mIn[6]\u001b[39m\u001b[32m, line 11\u001b[39m\n\u001b[32m      8\u001b[39m     \u001b[38;5;28;01mreturn\u001b[39;00m result\n\u001b[32m     10\u001b[39m list1=[\u001b[32m4\u001b[39m,\u001b[32m3\u001b[39m,\u001b[32m2\u001b[39m,\u001b[32m7\u001b[39m,\u001b[32m8\u001b[39m,\u001b[32m2\u001b[39m,\u001b[32m3\u001b[39m,\u001b[32m1\u001b[39m]\n\u001b[32m---> \u001b[39m\u001b[32m11\u001b[39m \u001b[43mremove_dupli\u001b[49m\u001b[43m(\u001b[49m\u001b[43mlist1\u001b[49m\u001b[43m)\u001b[49m\n",
      "\u001b[36mCell\u001b[39m\u001b[36m \u001b[39m\u001b[32mIn[6]\u001b[39m\u001b[32m, line 5\u001b[39m, in \u001b[36mremove_dupli\u001b[39m\u001b[34m(num)\u001b[39m\n\u001b[32m      3\u001b[39m \u001b[38;5;28;01mfor\u001b[39;00m num \u001b[38;5;129;01min\u001b[39;00m nums:\n\u001b[32m      4\u001b[39m     num += \u001b[32m1\u001b[39m\n\u001b[32m----> \u001b[39m\u001b[32m5\u001b[39m \u001b[38;5;28;01mfor\u001b[39;00m num, count \u001b[38;5;129;01min\u001b[39;00m \u001b[43mresult\u001b[49m\u001b[43m(\u001b[49m\u001b[43m)\u001b[49m:\n\u001b[32m      6\u001b[39m     \u001b[38;5;28;01mif\u001b[39;00m count == \u001b[32m2\u001b[39m:\n\u001b[32m      7\u001b[39m         result.append(num)\n",
      "\u001b[31mTypeError\u001b[39m: 'list' object is not callable"
     ]
    }
   ],
   "source": [
    "def remove_dupli(num):\n",
    "    result=[]\n",
    "    for num in nums:\n",
    "        num += 1\n",
    "    for num, count in result():\n",
    "        if count == 2:\n",
    "            result.append(num)\n",
    "    return result\n",
    "   \n",
    "list1=[4,3,2,7,8,2,3,1]\n",
    "remove_dupli(list1)\n"
   ]
  },
  {
   "cell_type": "code",
   "execution_count": null,
   "id": "10737ccc",
   "metadata": {},
   "outputs": [
    {
     "name": "stdout",
     "output_type": "stream",
     "text": [
      "[{1, 3, 4, 5, 6, 44, 222}]\n"
     ]
    }
   ],
   "source": [
    "set1=[1,222,3,3,4,222,44,5,6,44,]\n",
    "t=set(set1)\n",
    "\n",
    "\n",
    "\n",
    "\n",
    "\n",
    "\n",
    "print(t)"
   ]
  },
  {
   "cell_type": "code",
   "execution_count": 16,
   "id": "ff56727e",
   "metadata": {},
   "outputs": [
    {
     "ename": "TypeError",
     "evalue": "'bool' object is not iterable",
     "output_type": "error",
     "traceback": [
      "\u001b[31m---------------------------------------------------------------------------\u001b[39m",
      "\u001b[31mTypeError\u001b[39m                                 Traceback (most recent call last)",
      "\u001b[36mCell\u001b[39m\u001b[36m \u001b[39m\u001b[32mIn[16]\u001b[39m\u001b[32m, line 13\u001b[39m\n\u001b[32m     11\u001b[39m nums2 = [\u001b[32m9\u001b[39m,\u001b[32m4\u001b[39m,\u001b[32m9\u001b[39m,\u001b[32m8\u001b[39m,\u001b[32m4\u001b[39m]\n\u001b[32m     12\u001b[39m ma = (nums1==nums2)\n\u001b[32m---> \u001b[39m\u001b[32m13\u001b[39m output = \u001b[43mfind_elements_appearing_twice\u001b[49m\u001b[43m(\u001b[49m\u001b[43mma\u001b[49m\u001b[43m)\u001b[49m\n\u001b[32m     14\u001b[39m \u001b[38;5;28mprint\u001b[39m(\u001b[33mf\u001b[39m\u001b[33m\"\u001b[39m\u001b[33mInput: \u001b[39m\u001b[38;5;132;01m{\u001b[39;00mnums1\u001b[38;5;132;01m}\u001b[39;00m\u001b[33m,\u001b[39m\u001b[38;5;132;01m{\u001b[39;00mnums2\u001b[38;5;132;01m}\u001b[39;00m\u001b[33m\"\u001b[39m)\n\u001b[32m     15\u001b[39m \u001b[38;5;28mprint\u001b[39m(\u001b[33mf\u001b[39m\u001b[33m\"\u001b[39m\u001b[33mOutput: \u001b[39m\u001b[38;5;132;01m{\u001b[39;00moutput\u001b[38;5;132;01m}\u001b[39;00m\u001b[33m\"\u001b[39m)\n",
      "\u001b[36mCell\u001b[39m\u001b[36m \u001b[39m\u001b[32mIn[16]\u001b[39m\u001b[32m, line 3\u001b[39m, in \u001b[36mfind_elements_appearing_twice\u001b[39m\u001b[34m(nums)\u001b[39m\n\u001b[32m      1\u001b[39m \u001b[38;5;28;01mdef\u001b[39;00m\u001b[38;5;250m \u001b[39m\u001b[34mfind_elements_appearing_twice\u001b[39m(nums):\n\u001b[32m      2\u001b[39m     frequency_map = defaultdict(\u001b[38;5;28mint\u001b[39m)\n\u001b[32m----> \u001b[39m\u001b[32m3\u001b[39m \u001b[43m    \u001b[49m\u001b[38;5;28;43;01mfor\u001b[39;49;00m\u001b[43m \u001b[49m\u001b[43mnum\u001b[49m\u001b[43m \u001b[49m\u001b[38;5;129;43;01min\u001b[39;49;00m\u001b[43m \u001b[49m\u001b[43mnums\u001b[49m\u001b[43m:\u001b[49m\n\u001b[32m      4\u001b[39m \u001b[43m        \u001b[49m\u001b[43mfrequency_map\u001b[49m\u001b[43m[\u001b[49m\u001b[43mnum\u001b[49m\u001b[43m]\u001b[49m\u001b[43m \u001b[49m\u001b[43m+\u001b[49m\u001b[43m=\u001b[49m\u001b[43m \u001b[49m\u001b[32;43m1\u001b[39;49m\n\u001b[32m      5\u001b[39m     result = []\n",
      "\u001b[31mTypeError\u001b[39m: 'bool' object is not iterable"
     ]
    }
   ],
   "source": [
    "def find_elements_appearing_twice(nums):\n",
    "    frequency_map = defaultdict(int)\n",
    "    for num in nums:\n",
    "        frequency_map[num] += 1\n",
    "    result = []\n",
    "    for num, count in frequency_map.items():\n",
    "        if count == 2:\n",
    "            result.append(num)\n",
    "    return result\n",
    "nums1 = [4,9,5]\n",
    "nums2 = [9,4,9,8,4]\n",
    "ma = (nums1==nums2)\n",
    "output = find_elements_appearing_twice(ma)\n",
    "print(f\"Input: {nums1},{nums2}\")\n",
    "print(f\"Output: {output}\")\n",
    "\n"
   ]
  },
  {
   "cell_type": "code",
   "execution_count": null,
   "id": "b94de5f8",
   "metadata": {},
   "outputs": [
    {
     "ename": "TypeError",
     "evalue": "set() takes no keyword arguments",
     "output_type": "error",
     "traceback": [
      "\u001b[31m---------------------------------------------------------------------------\u001b[39m",
      "\u001b[31mTypeError\u001b[39m                                 Traceback (most recent call last)",
      "\u001b[36mCell\u001b[39m\u001b[36m \u001b[39m\u001b[32mIn[15]\u001b[39m\u001b[32m, line 14\u001b[39m\n\u001b[32m     12\u001b[39m nums1 = [\u001b[32m4\u001b[39m,\u001b[32m9\u001b[39m,\u001b[32m5\u001b[39m]\n\u001b[32m     13\u001b[39m nums2 = [\u001b[32m9\u001b[39m,\u001b[32m4\u001b[39m,\u001b[32m9\u001b[39m,\u001b[32m8\u001b[39m,\u001b[32m4\u001b[39m]\n\u001b[32m---> \u001b[39m\u001b[32m14\u001b[39m \u001b[38;5;28mprint\u001b[39m(\u001b[38;5;28;43mset\u001b[39;49m\u001b[43m(\u001b[49m\u001b[43mnums1\u001b[49m\u001b[43m=\u001b[49m\u001b[43mnums2\u001b[49m\u001b[43m)\u001b[49m)\n",
      "\u001b[31mTypeError\u001b[39m: set() takes no keyword arguments"
     ]
    }
   ],
   "source": [
    "from collections import Counter\n",
    "class Solution:\n",
    "    def intersect(self, nums1: list[int], nums2: list[int]) -> list[int]:\n",
    "        counts1 = Counter(nums1)\n",
    "        intersection = []\n",
    "        for num in nums2:\n",
    "            if num in counts1 and counts1[num] > 0:\n",
    "                intersection.append(num)\n",
    "                counts1[num] -= 1\n",
    "                \n",
    "        return intersection\n",
    "t = intersect[nums1]\n",
    "e= \n",
    "print(nums1=nums2))"
   ]
  },
  {
   "cell_type": "code",
   "execution_count": null,
   "id": "cd5cecee",
   "metadata": {},
   "outputs": [
    {
     "name": "stdout",
     "output_type": "stream",
     "text": [
      "➕ Item added to Lost & Found.\n"
     ]
    }
   ],
   "source": [
    "# Hash table to store lost items\n",
    "lost_and_found = {}\n",
    "\n",
    "while True:\n",
    "    item = input(\"Enter the lost item (or type 'exit' to stop): \").lower()\n",
    "    \n",
    "    if item == \"exit\":\n",
    "        break\n",
    "    \n",
    "    # Generate a hash key (optional, for demonstration)\n",
    "    item_hash = hash(item)\n",
    "    \n",
    "    # Check if item is already in the hash table\n",
    "    if item_hash in lost_and_found:\n",
    "        print(f\"✅ Yes! Found it: {lost_and_found[item_hash]}\")\n",
    "    else:\n",
    "        # Store item using its hash\n",
    "        lost_and_found[item_hash] = item\n",
    "        print(\"➕ Item added to Lost & Found.\")\n"
   ]
  }
 ],
 "metadata": {
  "kernelspec": {
   "display_name": "Python 3",
   "language": "python",
   "name": "python3"
  },
  "language_info": {
   "codemirror_mode": {
    "name": "ipython",
    "version": 3
   },
   "file_extension": ".py",
   "mimetype": "text/x-python",
   "name": "python",
   "nbconvert_exporter": "python",
   "pygments_lexer": "ipython3",
   "version": "3.13.5"
  }
 },
 "nbformat": 4,
 "nbformat_minor": 5
}
